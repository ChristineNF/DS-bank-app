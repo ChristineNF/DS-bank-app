{
 "cells": [
  {
   "cell_type": "code",
   "execution_count": 1,
   "metadata": {},
   "outputs": [],
   "source": [
    "%load_ext autoreload\n",
    "%autoreload 2"
   ]
  },
  {
   "cell_type": "code",
   "execution_count": 2,
   "metadata": {},
   "outputs": [],
   "source": [
    "from app import Bank"
   ]
  },
  {
   "cell_type": "code",
   "execution_count": 23,
   "metadata": {},
   "outputs": [],
   "source": [
    "bank = Bank('DKB')\n",
    "bank2 = Bank('HASPA')"
   ]
  },
  {
   "cell_type": "code",
   "execution_count": 24,
   "metadata": {},
   "outputs": [
    {
     "name": "stdout",
     "output_type": "stream",
     "text": [
      "Bank: HASPA\n",
      "Accounts: []\n",
      "Transactions: []\n"
     ]
    }
   ],
   "source": [
    "print(f'Bank: {bank2.name}')\n",
    "print(f'Accounts: {bank2.accounts}')\n",
    "print(f'Transactions: {bank2.transactions}')"
   ]
  },
  {
   "cell_type": "code",
   "execution_count": 10,
   "metadata": {},
   "outputs": [
    {
     "data": {
      "text/plain": [
       "{'number': 3, 'firstname': 'Erika', 'lastname': 'Muster'}"
      ]
     },
     "execution_count": 10,
     "metadata": {},
     "output_type": "execute_result"
    }
   ],
   "source": [
    "bank.open_account({\n",
    "            'number': 3,\n",
    "            'firstname': 'Erika',\n",
    "            'lastname': 'Muster',\n",
    "        })"
   ]
  },
  {
   "cell_type": "code",
   "execution_count": 21,
   "metadata": {},
   "outputs": [
    {
     "data": {
      "text/plain": [
       "{'sender': {'number': 2, 'firstname': 'Max', 'lastname': 'Muster'},\n",
       " 'recipient': {'number': 4, 'firstname': 'alfred', 'lastname': 'Zweistein'},\n",
       " 'subject': 'Bücher',\n",
       " 'amount': 100}"
      ]
     },
     "execution_count": 21,
     "metadata": {},
     "output_type": "execute_result"
    }
   ],
   "source": [
    "maxM = bank.accounts[1]\n",
    "erikaM = bank.accounts[2]\n",
    "alfred = bank.open_account({'number': 4,\n",
    "            'firstname': 'alfred',\n",
    "            'lastname': 'Zweistein',\n",
    "        })\n",
    "bank.add_transaction(sender=maxM, recipient=alfred, subject='Bücher', amount=100)"
   ]
  },
  {
   "cell_type": "code",
   "execution_count": 42,
   "metadata": {},
   "outputs": [
    {
     "name": "stdout",
     "output_type": "stream",
     "text": [
      "[{'number': 1, 'firstname': 'Anton', 'lastname': 'Mueller'}, {'number': 2, 'firstname': 'Anna', 'lastname': 'Mueller'}, {'number': 3, 'firstname': 'Tom', 'lastname': 'Meier'}, {'number': 4, 'firstname': 'Lena', 'lastname': 'Mayer'}]\n"
     ]
    }
   ],
   "source": [
    "print(bank2.accounts)\n",
    "anton = {'number': 1, 'firstname': 'Anton', 'lastname': 'Mueller'}\n",
    "anna = {'number': 2, 'firstname': 'Anna', 'lastname': 'Mueller'}\n",
    "tom = {'number': 3, 'firstname': 'Tom', 'lastname': 'Meier'}\n",
    "lena = {'number': 4, 'firstname': 'Lena', 'lastname': 'Mayer'}\n",
    "kunden = [anton, anna, tom, lena]\n",
    "kunden2 = (anton, anna, tom, lena)"
   ]
  },
  {
   "cell_type": "code",
   "execution_count": 30,
   "metadata": {},
   "outputs": [],
   "source": [
    "for kunde in kunden:\n",
    "    bank2.open_account(kunde)"
   ]
  },
  {
   "cell_type": "code",
   "execution_count": 35,
   "metadata": {},
   "outputs": [],
   "source": [
    "for i in range(len(kunden)):\n",
    "    bank2.add_transaction(sender=kunden[i%len(kunden)], recipient=kunden[(i+1)%len(kunden)], subject='Test %i' %i, amount = (i+1)*100)"
   ]
  },
  {
   "cell_type": "code",
   "execution_count": 36,
   "metadata": {},
   "outputs": [
    {
     "name": "stdout",
     "output_type": "stream",
     "text": [
      "[{'sender': {'number': 1, 'firstname': 'Anton', 'lastname': 'Mueller'}, 'recipient': {'number': 2, 'firstname': 'Anna', 'lastname': 'Mueller'}, 'subject': 'Test 0', 'amount': 100}, {'sender': {'number': 2, 'firstname': 'Anna', 'lastname': 'Mueller'}, 'recipient': {'number': 3, 'firstname': 'Tom', 'lastname': 'Meier'}, 'subject': 'Test 1', 'amount': 200}, {'sender': {'number': 3, 'firstname': 'Tom', 'lastname': 'Meier'}, 'recipient': {'number': 4, 'firstname': 'Lena', 'lastname': 'Mayer'}, 'subject': 'Test 2', 'amount': 300}, {'sender': {'number': 4, 'firstname': 'Lena', 'lastname': 'Mayer'}, 'recipient': {'number': 1, 'firstname': 'Anton', 'lastname': 'Mueller'}, 'subject': 'Test 3', 'amount': 400}]\n"
     ]
    }
   ],
   "source": [
    "print(bank2.transactions)"
   ]
  },
  {
   "cell_type": "code",
   "execution_count": 56,
   "metadata": {},
   "outputs": [],
   "source": [
    "bank5 = Bank('Bla')"
   ]
  },
  {
   "cell_type": "code",
   "execution_count": 58,
   "metadata": {},
   "outputs": [
    {
     "name": "stdout",
     "output_type": "stream",
     "text": [
      "[{'number': 1, 'firstname': 'Anton', 'lastname': 'Mueller'}, {'number': 2, 'firstname': 'Anna', 'lastname': 'Mueller'}, {'number': 3, 'firstname': 'Tom', 'lastname': 'Meier'}, {'number': 4, 'firstname': 'Lena', 'lastname': 'Mayer'}]\n",
      "[{'number': 1, 'firstname': 'Anton', 'lastname': 'Mueller'}, {'number': 2, 'firstname': 'Anna', 'lastname': 'Mueller'}, {'number': 3, 'firstname': 'Tom', 'lastname': 'Meier'}, {'number': 4, 'firstname': 'Lena', 'lastname': 'Mayer'}]\n"
     ]
    }
   ],
   "source": [
    "bank5.accounts = []\n",
    "test = map(bank5.open_account, kunden2)\n",
    "blub = list(test)\n",
    "print(blub)\n",
    "print(bank5.accounts)"
   ]
  },
  {
   "cell_type": "code",
   "execution_count": 50,
   "metadata": {},
   "outputs": [
    {
     "name": "stdout",
     "output_type": "stream",
     "text": [
      "<map object at 0x10d1b5a58>\n",
      "{16, 1, 4, 9}\n"
     ]
    }
   ],
   "source": [
    "def calculateSquare(n):\n",
    "  return n*n\n",
    "\n",
    "numbers = (1, 2, 3, 4)\n",
    "result = map(calculateSquare, numbers)\n",
    "print(result)\n",
    "\n",
    "# converting map object to set\n",
    "numbersSquare = set(result)\n",
    "print(numbersSquare)"
   ]
  },
  {
   "cell_type": "code",
   "execution_count": null,
   "metadata": {},
   "outputs": [],
   "source": []
  }
 ],
 "metadata": {
  "kernelspec": {
   "display_name": "Python 3",
   "language": "python",
   "name": "python3"
  },
  "language_info": {
   "codemirror_mode": {
    "name": "ipython",
    "version": 3
   },
   "file_extension": ".py",
   "mimetype": "text/x-python",
   "name": "python",
   "nbconvert_exporter": "python",
   "pygments_lexer": "ipython3",
   "version": "3.6.8"
  }
 },
 "nbformat": 4,
 "nbformat_minor": 2
}
