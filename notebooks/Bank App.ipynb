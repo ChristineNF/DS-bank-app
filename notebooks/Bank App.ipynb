{
 "cells": [
  {
   "cell_type": "code",
   "execution_count": 7,
   "metadata": {},
   "outputs": [
    {
     "name": "stdout",
     "output_type": "stream",
     "text": [
      "The autoreload extension is already loaded. To reload it, use:\n",
      "  %reload_ext autoreload\n"
     ]
    }
   ],
   "source": [
    "%load_ext autoreload\n",
    "%autoreload 2"
   ]
  },
  {
   "cell_type": "code",
   "execution_count": 8,
   "metadata": {},
   "outputs": [
    {
     "ename": "SyntaxError",
     "evalue": "EOL while scanning string literal (<ipython-input-8-6f8b8b9cd70b>, line 1)",
     "output_type": "error",
     "traceback": [
      "\u001b[0;36m  File \u001b[0;32m\"<ipython-input-8-6f8b8b9cd70b>\"\u001b[0;36m, line \u001b[0;32m1\u001b[0m\n\u001b[0;31m    from app import Bank'\u001b[0m\n\u001b[0m                         ^\u001b[0m\n\u001b[0;31mSyntaxError\u001b[0m\u001b[0;31m:\u001b[0m EOL while scanning string literal\n"
     ]
    }
   ],
   "source": [
    "from app import Bank'"
   ]
  },
  {
   "cell_type": "code",
   "execution_count": 4,
   "metadata": {},
   "outputs": [],
   "source": [
    "bank = Bank('DKB')"
   ]
  },
  {
   "cell_type": "code",
   "execution_count": 5,
   "metadata": {},
   "outputs": [
    {
     "name": "stdout",
     "output_type": "stream",
     "text": [
      "Bank: DKB\n",
      "Accounts: {}\n",
      "Transactions: []\n"
     ]
    }
   ],
   "source": [
    "print(f'Bank: {bank.name}')\n",
    "print(f'Accounts: {bank.accounts}')\n",
    "print(f'Transactions: {bank.transactions}')"
   ]
  },
  {
   "cell_type": "code",
   "execution_count": 27,
   "metadata": {},
   "outputs": [
    {
     "name": "stdout",
     "output_type": "stream",
     "text": [
      "2018-07-20 00:00:00\n",
      "20.07.2018\n",
      "08.02.2019\n",
      "7\n"
     ]
    }
   ],
   "source": [
    "from datetime import datetime, timedelta\n",
    "ts = datetime(2018,7,20)\n",
    "print(ts)\n",
    "print(ts.strftime('%d.%m.%Y'))\n",
    "print(datetime.now().strftime('%d.%m.%Y'))\n",
    "print(ts.month)"
   ]
  },
  {
   "cell_type": "code",
   "execution_count": 25,
   "metadata": {},
   "outputs": [
    {
     "name": "stdout",
     "output_type": "stream",
     "text": [
      "1.0\n",
      "2018-07-19 00:00:00\n"
     ]
    }
   ],
   "source": [
    "month = 12.5\n",
    "print((month+1)//12)\n",
    "print(datetime(2018,7,20)-timedelta(days=1))"
   ]
  },
  {
   "cell_type": "code",
   "execution_count": 50,
   "metadata": {},
   "outputs": [
    {
     "name": "stdout",
     "output_type": "stream",
     "text": [
      "TransactionID  BookingDate Sender Recipient Subject  Category Amount €\n",
      "1              09.02.2019      2         3 bla      blub           12\n",
      "2              10.02.2019      3         4 bla      blub           32\n",
      "\n"
     ]
    }
   ],
   "source": [
    "accst = '{0:<14} {1:>8} {2:>6} {3:>9} {4:<8} {5:<8} {6:>8}\\n'.format('TransactionID', 'BookingDate', 'Sender', 'Recipient', 'Subject', 'Category', 'Amount €')\n",
    "accst += '{0:<14} {1:>8} {2:>6} {3:>9} {4:<8} {5:<8} {6:>8}\\n'.format('1', '09.02.2019', '2', '3', 'bla', 'blub', '12')\n",
    "accst += '{0:<14} {1:>8} {2:>6} {3:>9} {4:<8} {5:<8} {6:>8}\\n'.format('2', '10.02.2019', '3', '4', 'bla', 'blub', '32')\n",
    "print(accst)"
   ]
  },
  {
   "cell_type": "code",
   "execution_count": null,
   "metadata": {},
   "outputs": [],
   "source": []
  }
 ],
 "metadata": {
  "kernelspec": {
   "display_name": "Python 3",
   "language": "python",
   "name": "python3"
  },
  "language_info": {
   "codemirror_mode": {
    "name": "ipython",
    "version": 3
   },
   "file_extension": ".py",
   "mimetype": "text/x-python",
   "name": "python",
   "nbconvert_exporter": "python",
   "pygments_lexer": "ipython3",
   "version": "3.6.8"
  }
 },
 "nbformat": 4,
 "nbformat_minor": 2
}
